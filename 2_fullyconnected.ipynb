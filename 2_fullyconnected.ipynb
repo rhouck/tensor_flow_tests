{
 "cells": [
  {
   "cell_type": "markdown",
   "metadata": {
    "colab_type": "text",
    "id": "kR-4eNdK6lYS"
   },
   "source": [
    "Deep Learning\n",
    "=============\n",
    "\n",
    "Assignment 2\n",
    "------------\n",
    "\n",
    "Previously in `1_notmnist.ipynb`, we created a pickle with formatted datasets for training, development and testing on the [notMNIST dataset](http://yaroslavvb.blogspot.com/2011/09/notmnist-dataset.html).\n",
    "\n",
    "The goal of this assignment is to progressively train deeper and more accurate models using TensorFlow."
   ]
  },
  {
   "cell_type": "code",
   "execution_count": 1,
   "metadata": {
    "cellView": "both",
    "colab": {
     "autoexec": {
      "startup": false,
      "wait_interval": 0
     }
    },
    "colab_type": "code",
    "collapsed": true,
    "id": "JLpLa8Jt7Vu4"
   },
   "outputs": [],
   "source": [
    "# These are all the modules we'll be using later. Make sure you can import them\n",
    "# before proceeding further.\n",
    "import numpy as np\n",
    "import tensorflow as tf\n",
    "from six.moves import cPickle as pickle\n",
    "from six.moves import range"
   ]
  },
  {
   "cell_type": "markdown",
   "metadata": {
    "colab_type": "text",
    "id": "1HrCK6e17WzV"
   },
   "source": [
    "First reload the data we generated in `1_notmist.ipynb`."
   ]
  },
  {
   "cell_type": "code",
   "execution_count": 2,
   "metadata": {
    "cellView": "both",
    "colab": {
     "autoexec": {
      "startup": false,
      "wait_interval": 0
     },
     "output_extras": [
      {
       "item_id": 1
      }
     ]
    },
    "colab_type": "code",
    "collapsed": false,
    "executionInfo": {
     "elapsed": 19456,
     "status": "ok",
     "timestamp": 1449847956073,
     "user": {
      "color": "",
      "displayName": "",
      "isAnonymous": false,
      "isMe": true,
      "permissionId": "",
      "photoUrl": "",
      "sessionId": "0",
      "userId": ""
     },
     "user_tz": 480
    },
    "id": "y3-cj1bpmuxc",
    "outputId": "0ddb1607-1fc4-4ddb-de28-6c7ab7fb0c33"
   },
   "outputs": [
    {
     "name": "stdout",
     "output_type": "stream",
     "text": [
      "('Training set', (519114, 28, 28), (519114,))\n",
      "('Validation set', (10000, 28, 28), (10000,))\n",
      "('Test set', (18724, 28, 28), (18724,))\n"
     ]
    }
   ],
   "source": [
    "pickle_file = 'cache/notMNIST.pickle'\n",
    "\n",
    "with open(pickle_file, 'rb') as f:\n",
    "    save = pickle.load(f)\n",
    "    train_dataset = save['train_dataset']\n",
    "    train_labels = save['train_labels']\n",
    "    valid_dataset = save['valid_dataset']\n",
    "    valid_labels = save['valid_labels']\n",
    "    test_dataset = save['test_dataset']\n",
    "    test_labels = save['test_labels']\n",
    "    del save  # hint to help gc free up memory\n",
    "    print('Training set', train_dataset.shape, train_labels.shape)\n",
    "    print('Validation set', valid_dataset.shape, valid_labels.shape)\n",
    "    print('Test set', test_dataset.shape, test_labels.shape)"
   ]
  },
  {
   "cell_type": "markdown",
   "metadata": {
    "colab_type": "text",
    "id": "L7aHrm6nGDMB"
   },
   "source": [
    "Reformat into a shape that's more adapted to the models we're going to train:\n",
    "- data as a flat matrix,\n",
    "- labels as float 1-hot encodings."
   ]
  },
  {
   "cell_type": "code",
   "execution_count": 3,
   "metadata": {
    "cellView": "both",
    "colab": {
     "autoexec": {
      "startup": false,
      "wait_interval": 0
     },
     "output_extras": [
      {
       "item_id": 1
      }
     ]
    },
    "colab_type": "code",
    "collapsed": false,
    "executionInfo": {
     "elapsed": 19723,
     "status": "ok",
     "timestamp": 1449847956364,
     "user": {
      "color": "",
      "displayName": "",
      "isAnonymous": false,
      "isMe": true,
      "permissionId": "",
      "photoUrl": "",
      "sessionId": "0",
      "userId": ""
     },
     "user_tz": 480
    },
    "id": "IRSyYiIIGIzS",
    "outputId": "2ba0fc75-1487-4ace-a562-cf81cae82793"
   },
   "outputs": [
    {
     "name": "stdout",
     "output_type": "stream",
     "text": [
      "('Training set', (519114, 784), (519114, 10))\n",
      "('Validation set', (10000, 784), (10000, 10))\n",
      "('Test set', (18724, 784), (18724, 10))\n"
     ]
    }
   ],
   "source": [
    "image_size = 28\n",
    "num_labels = 10\n",
    "\n",
    "def reformat(dataset, labels):\n",
    "    dataset = dataset.reshape((-1, image_size * image_size)).astype(np.float32)\n",
    "    # Map 0 to [1.0, 0.0, 0.0 ...], 1 to [0.0, 1.0, 0.0 ...]\n",
    "    labels = (np.arange(num_labels) == labels[:,None]).astype(np.float32)\n",
    "    return dataset, labels\n",
    "train_dataset, train_labels = reformat(train_dataset, train_labels)\n",
    "valid_dataset, valid_labels = reformat(valid_dataset, valid_labels)\n",
    "test_dataset, test_labels = reformat(test_dataset, test_labels)\n",
    "print('Training set', train_dataset.shape, train_labels.shape)\n",
    "print('Validation set', valid_dataset.shape, valid_labels.shape)\n",
    "print('Test set', test_dataset.shape, test_labels.shape)"
   ]
  },
  {
   "cell_type": "markdown",
   "metadata": {
    "colab_type": "text",
    "id": "nCLVqyQ5vPPH"
   },
   "source": [
    "We're first going to train a multinomial logistic regression using simple gradient descent.\n",
    "\n",
    "TensorFlow works like this:\n",
    "* First you describe the computation that you want to see performed: what the inputs, the variables, and the operations look like. These get created as nodes over a computation graph. This description is all contained within the block below:\n",
    "\n",
    "      with graph.as_default():\n",
    "          ...\n",
    "\n",
    "* Then you can run the operations on this graph as many times as you want by calling `session.run()`, providing it outputs to fetch from the graph that get returned. This runtime operation is all contained in the block below:\n",
    "\n",
    "      with tf.Session(graph=graph) as session:\n",
    "          ...\n",
    "\n",
    "Let's load all the data into TensorFlow and build the computation graph corresponding to our training:"
   ]
  },
  {
   "cell_type": "code",
   "execution_count": 4,
   "metadata": {
    "cellView": "both",
    "colab": {
     "autoexec": {
      "startup": false,
      "wait_interval": 0
     }
    },
    "colab_type": "code",
    "collapsed": false,
    "id": "Nfv39qvtvOl_"
   },
   "outputs": [],
   "source": [
    "# With gradient descent training, even this much data is prohibitive.\n",
    "# Subset the training data for faster turnaround.\n",
    "train_subset = 10000\n",
    "\n",
    "graph = tf.Graph()\n",
    "with graph.as_default():\n",
    "\n",
    "    # Input data.\n",
    "    # Load the training, validation and test data into constants that are\n",
    "    # attached to the graph.\n",
    "    tf_train_dataset = tf.constant(train_dataset[:train_subset, :])\n",
    "    tf_train_labels = tf.constant(train_labels[:train_subset])\n",
    "    tf_valid_dataset = tf.constant(valid_dataset)\n",
    "    tf_test_dataset = tf.constant(test_dataset)\n",
    "\n",
    "    # Variables.\n",
    "    # These are the parameters that we are going to be training. The weight\n",
    "    # matrix will be initialized using random valued following a (truncated)\n",
    "    # normal distribution. The biases get initialized to zero.\n",
    "    weights = tf.Variable(tf.truncated_normal([image_size * image_size, num_labels]))\n",
    "    biases = tf.Variable(tf.zeros([num_labels]))\n",
    "\n",
    "    # Training computation.\n",
    "    # We multiply the inputs with the weight matrix, and add biases. We compute\n",
    "    # the softmax and cross-entropy (it's one operation in TensorFlow, because\n",
    "    # it's very common, and it can be optimized). We take the average of this\n",
    "    # cross-entropy across all training examples: that's our loss.\n",
    "    logits = tf.matmul(tf_train_dataset, weights) + biases\n",
    "    loss = tf.reduce_mean(tf.nn.softmax_cross_entropy_with_logits(logits, tf_train_labels))\n",
    "\n",
    "    # Optimizer.\n",
    "    # We are going to find the minimum of this loss using gradient descent.\n",
    "    optimizer = tf.train.GradientDescentOptimizer(0.5).minimize(loss)\n",
    "\n",
    "    # Predictions for the training, validation, and test data.\n",
    "    # These are not part of training, but merely here so that we can report\n",
    "    # accuracy figures as we train.\n",
    "    train_prediction = tf.nn.softmax(logits)\n",
    "    valid_prediction = tf.nn.softmax(tf.matmul(tf_valid_dataset, weights) + biases)\n",
    "    test_prediction = tf.nn.softmax(tf.matmul(tf_test_dataset, weights) + biases)"
   ]
  },
  {
   "cell_type": "code",
   "execution_count": 10,
   "metadata": {
    "collapsed": false
   },
   "outputs": [
    {
     "name": "stdout",
     "output_type": "stream",
     "text": [
      "Help on Tensor in module tensorflow.python.framework.ops object:\n",
      "\n",
      "class Tensor(__builtin__.object)\n",
      " |  Represents a value produced by an `Operation`.\n",
      " |  \n",
      " |  A `Tensor` is a symbolic handle to one of the outputs of an\n",
      " |  `Operation`. It does not hold the values of that operation's output,\n",
      " |  but instead provides a means of computing those values in a\n",
      " |  TensorFlow [`Session`](../../api_docs/python/client.md#Session).\n",
      " |  \n",
      " |  This class has two primary purposes:\n",
      " |  \n",
      " |  1. A `Tensor` can be passed as an input to another `Operation`.\n",
      " |     This builds a dataflow connection between operations, which\n",
      " |     enables TensorFlow to execute an entire `Graph` that represents a\n",
      " |     large, multi-step computation.\n",
      " |  \n",
      " |  2. After the graph has been launched in a session, the value of the\n",
      " |     `Tensor` can be computed by passing it to\n",
      " |     [`Session.run()`](../../api_docs/python/client.md#Session.run).\n",
      " |     `t.eval()` is a shortcut for calling\n",
      " |     `tf.get_default_session().run(t)`.\n",
      " |  \n",
      " |  In the following example, `c`, `d`, and `e` are symbolic `Tensor`\n",
      " |  objects, whereas `result` is a numpy array that stores a concrete\n",
      " |  value:\n",
      " |  \n",
      " |  ```python\n",
      " |  # Build a dataflow graph.\n",
      " |  c = tf.constant([[1.0, 2.0], [3.0, 4.0]])\n",
      " |  d = tf.constant([[1.0, 1.0], [0.0, 1.0]])\n",
      " |  e = tf.matmul(c, d)\n",
      " |  \n",
      " |  # Construct a `Session` to execut the graph.\n",
      " |  sess = tf.Session()\n",
      " |  \n",
      " |  # Execute the graph and store the value that `e` represents in `result`.\n",
      " |  result = sess.run(e)\n",
      " |  ```\n",
      " |  \n",
      " |  @@dtype\n",
      " |  @@name\n",
      " |  @@value_index\n",
      " |  @@graph\n",
      " |  @@op\n",
      " |  @@consumers\n",
      " |  \n",
      " |  @@eval\n",
      " |  \n",
      " |  @@get_shape\n",
      " |  @@set_shape\n",
      " |  \n",
      " |  Methods defined here:\n",
      " |  \n",
      " |  __abs__ = abs(x, name=None)\n",
      " |      Computes the absolute value of a tensor.\n",
      " |      \n",
      " |      Given a tensor of real numbers `x`, this operation returns a tensor\n",
      " |      containing the absolute value of each element in `x`. For example, if x is\n",
      " |      an input element and y is an output element, this operation computes\n",
      " |      \\\\(y = |x|\\\\).\n",
      " |      \n",
      " |      See [`tf.complex_abs()`](#tf_complex_abs) to compute the absolute value of a complex\n",
      " |      number.\n",
      " |      \n",
      " |      Args:\n",
      " |        x: A `Tensor` of type `float`, `double`, `int32`, or `int64`.\n",
      " |        name: A name for the operation (optional).\n",
      " |      \n",
      " |      Returns:\n",
      " |         A `Tensor` the same size and type as `x` with absolute values.\n",
      " |  \n",
      " |  __add__ = binary_op_wrapper(x, y)\n",
      " |  \n",
      " |  __and__ = binary_op_wrapper(x, y)\n",
      " |  \n",
      " |  __div__ = binary_op_wrapper(x, y)\n",
      " |  \n",
      " |  __eq__(self, other)\n",
      " |  \n",
      " |  __floordiv__ = binary_op_wrapper(x, y)\n",
      " |  \n",
      " |  __ge__ = greater_equal(x, y, name=None)\n",
      " |      Returns the truth value of (x >= y) element-wise.\n",
      " |      \n",
      " |      Args:\n",
      " |        x: A `Tensor`. Must be one of the following types: `float32`, `float64`, `int32`, `int64`.\n",
      " |        y: A `Tensor`. Must have the same type as `x`.\n",
      " |        name: A name for the operation (optional).\n",
      " |      \n",
      " |      Returns:\n",
      " |        A `Tensor` of type `bool`.\n",
      " |  \n",
      " |  __getitem__ = _SliceHelper(tensor, slice_spec)\n",
      " |      Overload for Tensor.__getitem__.\n",
      " |      \n",
      " |      Currently the size of the slice must be statically known in each dimension,\n",
      " |      i.e. the \"stop\" of the slice must not be omitted.\n",
      " |      \n",
      " |      TODO(mrry): Support slices where the sizes are not specified.\n",
      " |      TODO(mrry): Support negative indices in slices with numpy/Python semantics.\n",
      " |      \n",
      " |      Args:\n",
      " |        tensor: An ops.Tensor object.\n",
      " |        slice_spec: The arguments to Tensor.__getitem__.\n",
      " |      \n",
      " |      Returns:\n",
      " |        The appropriate slice of \"tensor\", based on \"slice_spec\".\n",
      " |      \n",
      " |      Raises:\n",
      " |        ValueError: If a slice range is negative size.\n",
      " |        TypeError: If the slice indices aren't int, slice, or Ellipsis.\n",
      " |  \n",
      " |  __gt__ = greater(x, y, name=None)\n",
      " |      Returns the truth value of (x > y) element-wise.\n",
      " |      \n",
      " |      Args:\n",
      " |        x: A `Tensor`. Must be one of the following types: `float32`, `float64`, `int32`, `int64`.\n",
      " |        y: A `Tensor`. Must have the same type as `x`.\n",
      " |        name: A name for the operation (optional).\n",
      " |      \n",
      " |      Returns:\n",
      " |        A `Tensor` of type `bool`.\n",
      " |  \n",
      " |  __hash__(self)\n",
      " |  \n",
      " |  __init__(self, op, value_index, dtype)\n",
      " |      Creates a new `Tensor`.\n",
      " |      \n",
      " |      Args:\n",
      " |        op: An `Operation`. `Operation` that computes this tensor.\n",
      " |        value_index: An `int`. Index of the operation's endpoint that produces\n",
      " |          this tensor.\n",
      " |        dtype: A `DType`. Type of elements stored in this tensor.\n",
      " |      \n",
      " |      Raises:\n",
      " |        TypeError: If the op is not an `Operation`.\n",
      " |  \n",
      " |  __invert__ = logical_not(x, name=None)\n",
      " |      Returns the truth value of NOT x element-wise.\n",
      " |      \n",
      " |      Args:\n",
      " |        x: A `Tensor` of type `bool`.\n",
      " |        name: A name for the operation (optional).\n",
      " |      \n",
      " |      Returns:\n",
      " |        A `Tensor` of type `bool`.\n",
      " |  \n",
      " |  __iter__(self)\n",
      " |      Dummy method to prevent iteration. Do not call.\n",
      " |      \n",
      " |      NOTE(mrry): If we register __getitem__ as an overloaded operator,\n",
      " |      Python will valiantly attempt to iterate over the Tensor from 0 to\n",
      " |      infinity.  Declaring this method prevents this unintended\n",
      " |      behavior.\n",
      " |      \n",
      " |      Raises:\n",
      " |        TypeError: when invoked.\n",
      " |  \n",
      " |  __le__ = less_equal(x, y, name=None)\n",
      " |      Returns the truth value of (x <= y) element-wise.\n",
      " |      \n",
      " |      Args:\n",
      " |        x: A `Tensor`. Must be one of the following types: `float32`, `float64`, `int32`, `int64`.\n",
      " |        y: A `Tensor`. Must have the same type as `x`.\n",
      " |        name: A name for the operation (optional).\n",
      " |      \n",
      " |      Returns:\n",
      " |        A `Tensor` of type `bool`.\n",
      " |  \n",
      " |  __lt__ = less(x, y, name=None)\n",
      " |      Returns the truth value of (x < y) element-wise.\n",
      " |      \n",
      " |      Args:\n",
      " |        x: A `Tensor`. Must be one of the following types: `float32`, `float64`, `int32`, `int64`.\n",
      " |        y: A `Tensor`. Must have the same type as `x`.\n",
      " |        name: A name for the operation (optional).\n",
      " |      \n",
      " |      Returns:\n",
      " |        A `Tensor` of type `bool`.\n",
      " |  \n",
      " |  __mod__ = binary_op_wrapper(x, y)\n",
      " |  \n",
      " |  __mul__ = binary_op_wrapper(x, y)\n",
      " |  \n",
      " |  __neg__ = neg(x, name=None)\n",
      " |      Computes numerical negative value element-wise.\n",
      " |      \n",
      " |      I.e., \\\\(y = -x\\\\).\n",
      " |      \n",
      " |      Args:\n",
      " |        x: A `Tensor`. Must be one of the following types: `float32`, `float64`, `int32`, `complex64`, `int64`.\n",
      " |        name: A name for the operation (optional).\n",
      " |      \n",
      " |      Returns:\n",
      " |        A `Tensor`. Has the same type as `x`.\n",
      " |  \n",
      " |  __or__ = binary_op_wrapper(x, y)\n",
      " |  \n",
      " |  __radd__ = r_binary_op_wrapper(y, x)\n",
      " |  \n",
      " |  __rand__ = r_binary_op_wrapper(y, x)\n",
      " |  \n",
      " |  __rdiv__ = r_binary_op_wrapper(y, x)\n",
      " |  \n",
      " |  __rfloordiv__ = r_binary_op_wrapper(y, x)\n",
      " |  \n",
      " |  __rmod__ = r_binary_op_wrapper(y, x)\n",
      " |  \n",
      " |  __rmul__ = r_binary_op_wrapper(y, x)\n",
      " |  \n",
      " |  __ror__ = r_binary_op_wrapper(y, x)\n",
      " |  \n",
      " |  __rsub__ = r_binary_op_wrapper(y, x)\n",
      " |  \n",
      " |  __rtruediv__ = r_binary_op_wrapper(y, x)\n",
      " |  \n",
      " |  __rxor__ = r_binary_op_wrapper(y, x)\n",
      " |  \n",
      " |  __str__(self)\n",
      " |  \n",
      " |  __sub__ = binary_op_wrapper(x, y)\n",
      " |  \n",
      " |  __truediv__ = binary_op_wrapper(x, y)\n",
      " |  \n",
      " |  __xor__ = binary_op_wrapper(x, y)\n",
      " |  \n",
      " |  consumers(self)\n",
      " |      Returns a list of `Operation`s that consume this tensor.\n",
      " |      \n",
      " |      Returns:\n",
      " |        A list of `Operation`s.\n",
      " |  \n",
      " |  eval(self, feed_dict=None, session=None)\n",
      " |      Evaluates this tensor in a `Session`.\n",
      " |      \n",
      " |      Calling this method will execute all preceding operations that\n",
      " |      produce the inputs needed for the operation that produces this\n",
      " |      tensor.\n",
      " |      \n",
      " |      *N.B.* Before invoking `Tensor.eval()`, its graph must have been\n",
      " |      launched in a session, and either a default session must be\n",
      " |      available, or `session` must be specified explicitly.\n",
      " |      \n",
      " |      Args:\n",
      " |        feed_dict: A dictionary that maps `Tensor` objects to feed values.\n",
      " |          See [`Session.run()`](../../api_docs/python/client.md#Session.run) for a\n",
      " |          description of the valid feed values.\n",
      " |        session: (Optional.) The `Session` to be used to evaluate this tensor. If\n",
      " |          none, the default session will be used.\n",
      " |      \n",
      " |      Returns:\n",
      " |        A numpy array corresponding to the value of this tensor.\n",
      " |  \n",
      " |  get_shape(self)\n",
      " |      Returns the `TensorShape` that represents the shape of this tensor.\n",
      " |      \n",
      " |      The shape is computed using shape inference functions that are\n",
      " |      registered for each `Operation` type using `tf.RegisterShape`.\n",
      " |      See [`TensorShape`](../../api_docs/python/framework.md#TensorShape) for more\n",
      " |      details of what a shape represents.\n",
      " |      \n",
      " |      The inferred shape of a tensor is used to provide shape\n",
      " |      information without having to launch the graph in a session. This\n",
      " |      can be used for debugging, and providing early error messages. For\n",
      " |      example:\n",
      " |      \n",
      " |      ```python\n",
      " |      c = tf.constant([[1.0, 2.0, 3.0], [4.0, 5.0, 6.0]])\n",
      " |      \n",
      " |      print c.get_shape()\n",
      " |      ==> TensorShape([Dimension(2), Dimension(3)])\n",
      " |      \n",
      " |      d = tf.constant([[1.0, 0.0], [0.0, 1.0], [1.0, 0.0], [0.0, 1.0]])\n",
      " |      \n",
      " |      print d.get_shape()\n",
      " |      ==> TensorShape([Dimension(4), Dimension(2)])\n",
      " |      \n",
      " |      # Raises a ValueError, because `c` and `d` do not have compatible\n",
      " |      # inner dimensions.\n",
      " |      e = tf.matmul(c, d)\n",
      " |      \n",
      " |      f = tf.matmul(c, d, transpose_a=True, transpose_b=True)\n",
      " |      \n",
      " |      print f.get_shape()\n",
      " |      ==> TensorShape([Dimension(3), Dimension(4)])\n",
      " |      ```\n",
      " |      \n",
      " |      In some cases, the inferred shape may have unknown dimensions. If\n",
      " |      the caller has additional information about the values of these\n",
      " |      dimensions, `Tensor.set_shape()` can be used to augment the\n",
      " |      inferred shape.\n",
      " |      \n",
      " |      Returns:\n",
      " |        A `TensorShape` representing the shape of this tensor.\n",
      " |  \n",
      " |  set_shape(self, shape)\n",
      " |      Updates the shape of this tensor.\n",
      " |      \n",
      " |      This method can be called multiple times, and will merge the given\n",
      " |      `shape` with the current shape of this tensor. It can be used to\n",
      " |      provide additional information about the shape of this tensor that\n",
      " |      cannot be inferred from the graph alone. For example, this can be used\n",
      " |      to provide additional information about the shapes of images:\n",
      " |      \n",
      " |      ```python\n",
      " |      _, image_data = tf.TFRecordReader(...).read(...)\n",
      " |      image = tf.image.decode_png(image_data, channels=3)\n",
      " |      \n",
      " |      # The height and width dimensions of `image` are data dependent, and\n",
      " |      # cannot be computed without executing the op.\n",
      " |      print image.get_shape()\n",
      " |      ==> TensorShape([Dimension(None), Dimension(None), Dimension(3)])\n",
      " |      \n",
      " |      # We know that each image in this dataset is 28 x 28 pixels.\n",
      " |      image.set_shape([28, 28, 3])\n",
      " |      print image.get_shape()\n",
      " |      ==> TensorShape([Dimension(28), Dimension(28), Dimension(3)])\n",
      " |      ```\n",
      " |      \n",
      " |      Args:\n",
      " |        shape: A `TensorShape` representing the shape of this tensor.\n",
      " |      \n",
      " |      Raises:\n",
      " |        ValueError: If `shape` is not compatible with the current shape of\n",
      " |          this tensor.\n",
      " |  \n",
      " |  ----------------------------------------------------------------------\n",
      " |  Data descriptors defined here:\n",
      " |  \n",
      " |  __dict__\n",
      " |      dictionary for instance variables (if defined)\n",
      " |  \n",
      " |  __weakref__\n",
      " |      list of weak references to the object (if defined)\n",
      " |  \n",
      " |  device\n",
      " |      The name of the device on which this tensor will be produced, or None.\n",
      " |  \n",
      " |  dtype\n",
      " |      The `DType` of elements in this tensor.\n",
      " |  \n",
      " |  graph\n",
      " |      The `Graph` that contains this tensor.\n",
      " |  \n",
      " |  name\n",
      " |      The string name of this tensor.\n",
      " |  \n",
      " |  op\n",
      " |      The `Operation` that produces this tensor as an output.\n",
      " |  \n",
      " |  value_index\n",
      " |      The index of this tensor in the outputs of its `Operation`.\n",
      " |  \n",
      " |  ----------------------------------------------------------------------\n",
      " |  Data and other attributes defined here:\n",
      " |  \n",
      " |  OVERLOADABLE_OPERATORS = set(['__abs__', '__add__', '__and__', '__div_...\n",
      " |  \n",
      " |  __array_priority__ = 100\n",
      "\n"
     ]
    }
   ],
   "source": [
    "help(tf_train_dataset)"
   ]
  },
  {
   "cell_type": "markdown",
   "metadata": {
    "colab_type": "text",
    "id": "KQcL4uqISHjP"
   },
   "source": [
    "Let's run this computation and iterate:"
   ]
  },
  {
   "cell_type": "code",
   "execution_count": 22,
   "metadata": {
    "cellView": "both",
    "colab": {
     "autoexec": {
      "startup": false,
      "wait_interval": 0
     },
     "output_extras": [
      {
       "item_id": 9
      }
     ]
    },
    "colab_type": "code",
    "collapsed": false,
    "executionInfo": {
     "elapsed": 57454,
     "status": "ok",
     "timestamp": 1449847994134,
     "user": {
      "color": "",
      "displayName": "",
      "isAnonymous": false,
      "isMe": true,
      "permissionId": "",
      "photoUrl": "",
      "sessionId": "0",
      "userId": ""
     },
     "user_tz": 480
    },
    "id": "z2cjdenH869W",
    "outputId": "4c037ba1-b526-4d8e-e632-91e2a0333267"
   },
   "outputs": [
    {
     "name": "stdout",
     "output_type": "stream",
     "text": [
      "Initialized\n",
      "Loss at step 0: 15.399284\n",
      "Training accuracy: 11.9%\n",
      "Validation accuracy: 15.7%\n",
      "Loss at step 100: 2.308187\n",
      "Training accuracy: 71.7%\n",
      "Validation accuracy: 71.4%\n",
      "Loss at step 200: 1.859632\n",
      "Training accuracy: 74.8%\n",
      "Validation accuracy: 73.7%\n",
      "Loss at step 300: 1.614071\n",
      "Training accuracy: 76.5%\n",
      "Validation accuracy: 74.5%\n",
      "Loss at step 400: 1.446424\n",
      "Training accuracy: 77.5%\n",
      "Validation accuracy: 74.9%\n",
      "Loss at step 500: 1.322216\n",
      "Training accuracy: 78.2%\n",
      "Validation accuracy: 75.0%\n",
      "Loss at step 600: 1.225914\n",
      "Training accuracy: 79.0%\n",
      "Validation accuracy: 75.2%\n",
      "Loss at step 700: 1.148748\n",
      "Training accuracy: 79.7%\n",
      "Validation accuracy: 75.5%\n",
      "Loss at step 800: 1.085110\n",
      "Training accuracy: 80.0%\n",
      "Validation accuracy: 75.8%\n",
      "Test accuracy: 82.7%\n"
     ]
    }
   ],
   "source": [
    "num_steps = 801\n",
    "\n",
    "def accuracy(predictions, labels):\n",
    "    return (100.0 * np.sum(np.argmax(predictions, 1) == np.argmax(labels, 1)) / predictions.shape[0])\n",
    "\n",
    "with tf.Session(graph=graph) as session:\n",
    "    # This is a one-time operation which ensures the parameters get initialized as\n",
    "    # we described in the graph: random weights for the matrix, zeros for the\n",
    "    # biases. \n",
    "    tf.initialize_all_variables().run()\n",
    "    print('Initialized')\n",
    "    for step in range(num_steps):\n",
    "        # Run the computations. We tell .run() that we want to run the optimizer,\n",
    "        # and get the loss value and the training predictions returned as numpy\n",
    "        # arrays.\n",
    "        _, l, predictions = session.run([optimizer, loss, train_prediction])\n",
    "        if (step % 100 == 0):\n",
    "            print('Loss at step %d: %f' % (step, l))\n",
    "            print('Training accuracy: %.1f%%' % accuracy(\n",
    "            predictions, train_labels[:train_subset, :]))\n",
    "            # Calling .eval() on valid_prediction is basically like calling run(), but\n",
    "            # just to get that one numpy array. Note that it recomputes all its graph\n",
    "            # dependencies.\n",
    "            print('Validation accuracy: %.1f%%' % accuracy(valid_prediction.eval(), valid_labels))\n",
    "    print('Test accuracy: %.1f%%' % accuracy(test_prediction.eval(), test_labels))"
   ]
  },
  {
   "cell_type": "markdown",
   "metadata": {
    "colab_type": "text",
    "id": "x68f-hxRGm3H"
   },
   "source": [
    "Let's now switch to stochastic gradient descent training instead, which is much faster.\n",
    "\n",
    "The graph will be similar, except that instead of holding all the training data into a constant node, we create a `Placeholder` node which will be fed actual data at every call of `sesion.run()`."
   ]
  },
  {
   "cell_type": "code",
   "execution_count": 23,
   "metadata": {
    "cellView": "both",
    "colab": {
     "autoexec": {
      "startup": false,
      "wait_interval": 0
     }
    },
    "colab_type": "code",
    "collapsed": true,
    "id": "qhPMzWYRGrzM"
   },
   "outputs": [],
   "source": [
    "batch_size = 128\n",
    "\n",
    "graph = tf.Graph()\n",
    "with graph.as_default():\n",
    "\n",
    "    # Input data. For the training data, we use a placeholder that will be fed\n",
    "    # at run time with a training minibatch.\n",
    "    tf_train_dataset = tf.placeholder(tf.float32,shape=(batch_size, image_size * image_size))\n",
    "    tf_train_labels = tf.placeholder(tf.float32, shape=(batch_size, num_labels))\n",
    "    tf_valid_dataset = tf.constant(valid_dataset)\n",
    "    tf_test_dataset = tf.constant(test_dataset)\n",
    "  \n",
    "    # Variables.\n",
    "    weights = tf.Variable(tf.truncated_normal([image_size * image_size, num_labels]))\n",
    "    biases = tf.Variable(tf.zeros([num_labels]))\n",
    "  \n",
    "    # Training computation.\n",
    "    logits = tf.matmul(tf_train_dataset, weights) + biases\n",
    "    loss = tf.reduce_mean(tf.nn.softmax_cross_entropy_with_logits(logits, tf_train_labels))\n",
    "\n",
    "    # Optimizer.\n",
    "    optimizer = tf.train.GradientDescentOptimizer(0.5).minimize(loss)\n",
    "  \n",
    "    # Predictions for the training, validation, and test data.\n",
    "    train_prediction = tf.nn.softmax(logits)\n",
    "    valid_prediction = tf.nn.softmax(tf.matmul(tf_valid_dataset, weights) + biases)\n",
    "    test_prediction = tf.nn.softmax(tf.matmul(tf_test_dataset, weights) + biases)"
   ]
  },
  {
   "cell_type": "markdown",
   "metadata": {
    "colab_type": "text",
    "id": "XmVZESmtG4JH"
   },
   "source": [
    "Let's run it:"
   ]
  },
  {
   "cell_type": "code",
   "execution_count": 24,
   "metadata": {
    "cellView": "both",
    "colab": {
     "autoexec": {
      "startup": false,
      "wait_interval": 0
     },
     "output_extras": [
      {
       "item_id": 6
      }
     ]
    },
    "colab_type": "code",
    "collapsed": false,
    "executionInfo": {
     "elapsed": 66292,
     "status": "ok",
     "timestamp": 1449848003013,
     "user": {
      "color": "",
      "displayName": "",
      "isAnonymous": false,
      "isMe": true,
      "permissionId": "",
      "photoUrl": "",
      "sessionId": "0",
      "userId": ""
     },
     "user_tz": 480
    },
    "id": "FoF91pknG_YW",
    "outputId": "d255c80e-954d-4183-ca1c-c7333ce91d0a"
   },
   "outputs": [
    {
     "name": "stdout",
     "output_type": "stream",
     "text": [
      "Initialized\n",
      "Minibatch loss at step 0: 18.155754\n",
      "Minibatch accuracy: 6.2%\n",
      "Validation accuracy: 14.7%\n",
      "Minibatch loss at step 500: 1.250883\n",
      "Minibatch accuracy: 71.9%\n",
      "Validation accuracy: 75.9%\n",
      "Minibatch loss at step 1000: 1.613061\n",
      "Minibatch accuracy: 71.9%\n",
      "Validation accuracy: 76.3%\n",
      "Minibatch loss at step 1500: 1.332409\n",
      "Minibatch accuracy: 74.2%\n",
      "Validation accuracy: 78.1%\n",
      "Minibatch loss at step 2000: 0.923151\n",
      "Minibatch accuracy: 80.5%\n",
      "Validation accuracy: 77.5%\n",
      "Minibatch loss at step 2500: 1.145287\n",
      "Minibatch accuracy: 76.6%\n",
      "Validation accuracy: 78.5%\n",
      "Minibatch loss at step 3000: 1.170877\n",
      "Minibatch accuracy: 73.4%\n",
      "Validation accuracy: 79.2%\n",
      "Test accuracy: 86.0%\n"
     ]
    }
   ],
   "source": [
    "num_steps = 3001\n",
    "\n",
    "with tf.Session(graph=graph) as session:\n",
    "    tf.initialize_all_variables().run()\n",
    "    print(\"Initialized\")\n",
    "    for step in range(num_steps):\n",
    "        # Pick an offset within the training data, which has been randomized.\n",
    "        # Note: we could use better randomization across epochs.\n",
    "        offset = (step * batch_size) % (train_labels.shape[0] - batch_size)\n",
    "        # Generate a minibatch.\n",
    "        batch_data = train_dataset[offset:(offset + batch_size), :]\n",
    "        batch_labels = train_labels[offset:(offset + batch_size), :]\n",
    "        # Prepare a dictionary telling the session where to feed the minibatch.\n",
    "        # The key of the dictionary is the placeholder node of the graph to be fed,\n",
    "        # and the value is the numpy array to feed to it.\n",
    "        feed_dict = {tf_train_dataset : batch_data, tf_train_labels : batch_labels}\n",
    "        _, l, predictions = session.run([optimizer, loss, train_prediction], feed_dict=feed_dict)\n",
    "        if (step % 500 == 0):\n",
    "            print(\"Minibatch loss at step %d: %f\" % (step, l))\n",
    "            print(\"Minibatch accuracy: %.1f%%\" % accuracy(predictions, batch_labels))\n",
    "            print(\"Validation accuracy: %.1f%%\" % accuracy(valid_prediction.eval(), valid_labels))\n",
    "    print(\"Test accuracy: %.1f%%\" % accuracy(test_prediction.eval(), test_labels))"
   ]
  },
  {
   "cell_type": "markdown",
   "metadata": {
    "colab_type": "text",
    "id": "7omWxtvLLxik"
   },
   "source": [
    "---\n",
    "Problem\n",
    "-------\n",
    "\n",
    "Turn the logistic regression example with SGD into a 1-hidden layer neural network with rectified linear units (nn.relu()) and 1024 hidden nodes. This model should improve your validation / test accuracy.\n",
    "\n",
    "---"
   ]
  }
 ],
 "metadata": {
  "colab": {
   "default_view": {},
   "name": "2_fullyconnected.ipynb",
   "provenance": [],
   "version": "0.3.2",
   "views": {}
  },
  "kernelspec": {
   "display_name": "Python 2",
   "language": "python",
   "name": "python2"
  },
  "language_info": {
   "codemirror_mode": {
    "name": "ipython",
    "version": 2
   },
   "file_extension": ".py",
   "mimetype": "text/x-python",
   "name": "python",
   "nbconvert_exporter": "python",
   "pygments_lexer": "ipython2",
   "version": "2.7.6"
  }
 },
 "nbformat": 4,
 "nbformat_minor": 0
}
